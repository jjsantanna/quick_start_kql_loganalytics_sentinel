{
 "cells": [
  {
   "cell_type": "markdown",
   "metadata": {},
   "source": [
    "## Instaling KQLmagic libraries"
   ]
  },
  {
   "cell_type": "code",
   "execution_count": null,
   "metadata": {},
   "outputs": [],
   "source": [
    "!pip3 install Kqlmagic --no-cache-dir --upgrade"
   ]
  },
  {
   "cell_type": "markdown",
   "metadata": {},
   "source": [
    "## Loading the KQLmagic library"
   ]
  },
  {
   "cell_type": "code",
   "execution_count": null,
   "metadata": {},
   "outputs": [],
   "source": [
    "%reload_ext Kqlmagic"
   ]
  },
  {
   "cell_type": "markdown",
   "metadata": {},
   "source": [
    "## Configuring KQLmagic"
   ]
  },
  {
   "cell_type": "code",
   "execution_count": 2,
   "metadata": {},
   "outputs": [],
   "source": [
    "%config Kqlmagic.auto_dataframe=True\n",
    "%config Kqlmagic.auto_popup_schema=True\n",
    "# %config Kqlmagic.display_limit=10"
   ]
  },
  {
   "cell_type": "markdown",
   "metadata": {},
   "source": [
    "## Importing python libraries"
   ]
  },
  {
   "cell_type": "code",
   "execution_count": null,
   "metadata": {},
   "outputs": [],
   "source": [
    "import pandas as pd\n",
    "pd.options.display.max_columns = None\n",
    "pd.options.display.max_rows = False"
   ]
  },
  {
   "cell_type": "markdown",
   "metadata": {},
   "source": [
    "<h2 align='center'>=========================================================</h2>"
   ]
  },
  {
   "cell_type": "markdown",
   "metadata": {},
   "source": [
    "## Connecting to the Microsoft Demo Log Analytics"
   ]
  },
  {
   "cell_type": "code",
   "execution_count": 3,
   "metadata": {},
   "outputs": [
    {
     "data": {
      "text/html": [
       "<!DOCTYPE html>\n",
       "            <html><body>\n",
       "            <div style=''>\n",
       "            \n",
       "            <button onclick=\"this.style.visibility='visible';\n",
       "            kql_MagicLaunchWindowFunction('kqlmagic/temp_files/f578bd00-b5eb-4e66-b7b9-138b8a4042f8/_DEMO_WORKSPACE_at_loganalytics_schema.html', 'fullscreen=no,directories=no,location=no,menubar=no,resizable=yes,scrollbars=yes,status=no,titlebar=no,toolbar=no,', '_DEMO_WORKSPACE_at_loganalytics_schema', '');\n",
       "            kql_MagicCloseWindow(kql_Magic__DEMO_WORKSPACE_at_loganalytics_schema, -1, -1);\">\n",
       "            popup schema DEMO_WORKSPACE@loganalytics</button>\n",
       "            </div>\n",
       "\n",
       "            <script>\n",
       "            var kql_Magic__DEMO_WORKSPACE_at_loganalytics_schema = null;\n",
       "\n",
       "\n",
       "            function kql_MagicCloseWindow(window_obj, obj_secs, itself_secs) {\n",
       "                if (obj_secs >= 0) {\n",
       "                    _timeout = setTimeout(function(){\n",
       "                        window_obj.close();\n",
       "                        if (itself_secs >= 0) {\n",
       "                            __timeout = setTimeout(function(){window.close();}, itself_secs * 1000);\n",
       "                        }\n",
       "                    }, obj_secs * 1000);\n",
       "                } else if (itself_secs >= 0) {\n",
       "                    _timeout = setTimeout(function(){window.close();}, itself_secs * 1000);\n",
       "                }\n",
       "            }\n",
       "\n",
       "            function kql_MagicLaunchWindowFunction(file_path, window_params, window_name, host_or_text) {\n",
       "                var url;\n",
       "                if (host_or_text == 'text') {\n",
       "                    url = ''\n",
       "                } else if (file_path.startsWith('http')) {\n",
       "                    url = file_path;\n",
       "                } else {\n",
       "                    var base_url = '';\n",
       "\n",
       "                    // check if azure notebook\n",
       "                    var azure_host = (host_or_text == null || host_or_text.length == 0) ? 'https://notebooks.azure.com' : host_or_text;\n",
       "                    var start = azure_host.search('//');\n",
       "                    var azure_host_suffix = '.' + azure_host.substring(start+2);\n",
       "\n",
       "                    var loc = String(window.location);\n",
       "                    var end = loc.search(azure_host_suffix);\n",
       "                    start = loc.search('//');\n",
       "                    if (start > 0 && end > 0) {\n",
       "                        var parts = loc.substring(start+2, end).split('-');\n",
       "                        if (parts.length == 2) {\n",
       "                            var library = parts[0];\n",
       "                            var user = parts[1];\n",
       "                            base_url = azure_host + '/api/user/' +user+ '/library/' +library+ '/html/';\n",
       "                        }\n",
       "                    }\n",
       "\n",
       "                    // check if local jupyter lab\n",
       "                    if (base_url.length == 0) {\n",
       "                        var configDataScipt  = document.getElementById('jupyter-config-data');\n",
       "                        if (configDataScipt != null) {\n",
       "                            var jupyterConfigData = JSON.parse(configDataScipt.textContent);\n",
       "                            if (jupyterConfigData['appName'] == 'JupyterLab' && jupyterConfigData['serverRoot'] != null &&  jupyterConfigData['treeUrl'] != null) {\n",
       "                                var basePath = '/Users/nw/Desktop/thesis_nils' + '/';\n",
       "                                if (basePath.startsWith(jupyterConfigData['serverRoot'])) {\n",
       "                                    base_url = '/files/' + basePath.substring(jupyterConfigData['serverRoot'].length+1);\n",
       "                                }\n",
       "                            }\n",
       "                        }\n",
       "                    }\n",
       "\n",
       "                    // assume local jupyter notebook\n",
       "                    if (base_url.length == 0) {\n",
       "\n",
       "                        var parts = loc.split('/');\n",
       "                        parts.pop();\n",
       "                        base_url = parts.join('/') + '/';\n",
       "                    }\n",
       "                    url = base_url + file_path;\n",
       "                }\n",
       "\n",
       "                window.focus();\n",
       "                var w = screen.width / 2;\n",
       "                var h = screen.height / 2;\n",
       "                params = 'width='+w+',height='+h;\n",
       "                // kql_Magic + window_name should be a global variable \n",
       "                window_obj = window.open(url, window_name, window_params + params);\n",
       "                if (url == '') {\n",
       "                    var el = window_obj.document.createElement('p');\n",
       "                    window_obj.document.body.overflow = 'auto';\n",
       "                    el.style.top = 0;\n",
       "                    el.style.left = 0;\n",
       "                    el.innerHTML = file_path;\n",
       "                    window_obj.document.body.appendChild(el);\n",
       "                }\n",
       "                kql_Magic__DEMO_WORKSPACE_at_loganalytics_schema = window_obj;\n",
       "            }\n",
       "            </script>\n",
       "\n",
       "            </body></html>"
      ],
      "text/plain": [
       "<IPython.core.display.HTML object>"
      ]
     },
     "metadata": {},
     "output_type": "display_data"
    },
    {
     "data": {
      "application/javascript": [
       "try {IPython.notebook.kernel.reconnect();} catch(err) {;}"
      ],
      "text/plain": [
       "<IPython.core.display.Javascript object>"
      ]
     },
     "metadata": {},
     "output_type": "display_data"
    }
   ],
   "source": [
    "%kql loganalytics://workspace='DEMO_WORKSPACE';appkey='DEMO_KEY'"
   ]
  },
  {
   "cell_type": "markdown",
   "metadata": {},
   "source": [
    "## Connecting to a private Log Analytics\n",
    "**NOTE:** edit the `config_file.py`file. Note this will not be pushed to Github because it contains sensitive information (and it is in `.gitignore``)"
   ]
  },
  {
   "cell_type": "code",
   "execution_count": 44,
   "metadata": {},
   "outputs": [],
   "source": [
    "from config_file import *"
   ]
  },
  {
   "cell_type": "code",
   "execution_count": 45,
   "metadata": {},
   "outputs": [
    {
     "data": {
      "text/html": [
       "<!DOCTYPE html>\n",
       "            <html><body>\n",
       "            <div style=''>\n",
       "            \n",
       "            <button onclick=\"this.style.visibility='visible';\n",
       "            kql_MagicLaunchWindowFunction('kqlmagic/temp_files/f578bd00-b5eb-4e66-b7b9-138b8a4042f8/_88ddc2a5-36fd-403a-ac48-8cf61c0aee88_at_loganalytics_schema.html', 'fullscreen=no,directories=no,location=no,menubar=no,resizable=yes,scrollbars=yes,status=no,titlebar=no,toolbar=no,', '_88ddc2a5_36fd_403a_ac48_8cf61c0aee88_at_loganalytics_schema', '');\n",
       "            kql_MagicCloseWindow(kql_Magic__88ddc2a5_36fd_403a_ac48_8cf61c0aee88_at_loganalytics_schema, -1, -1);\">\n",
       "            popup schema 88ddc2a5-36fd-403a-ac48-8cf61c0aee88@loganalytics</button>\n",
       "            </div>\n",
       "\n",
       "            <script>\n",
       "            var kql_Magic__88ddc2a5_36fd_403a_ac48_8cf61c0aee88_at_loganalytics_schema = null;\n",
       "\n",
       "\n",
       "            function kql_MagicCloseWindow(window_obj, obj_secs, itself_secs) {\n",
       "                if (obj_secs >= 0) {\n",
       "                    _timeout = setTimeout(function(){\n",
       "                        window_obj.close();\n",
       "                        if (itself_secs >= 0) {\n",
       "                            __timeout = setTimeout(function(){window.close();}, itself_secs * 1000);\n",
       "                        }\n",
       "                    }, obj_secs * 1000);\n",
       "                } else if (itself_secs >= 0) {\n",
       "                    _timeout = setTimeout(function(){window.close();}, itself_secs * 1000);\n",
       "                }\n",
       "            }\n",
       "\n",
       "            function kql_MagicLaunchWindowFunction(file_path, window_params, window_name, host_or_text) {\n",
       "                var url;\n",
       "                if (host_or_text == 'text') {\n",
       "                    url = ''\n",
       "                } else if (file_path.startsWith('http')) {\n",
       "                    url = file_path;\n",
       "                } else {\n",
       "                    var base_url = '';\n",
       "\n",
       "                    // check if azure notebook\n",
       "                    var azure_host = (host_or_text == null || host_or_text.length == 0) ? 'https://notebooks.azure.com' : host_or_text;\n",
       "                    var start = azure_host.search('//');\n",
       "                    var azure_host_suffix = '.' + azure_host.substring(start+2);\n",
       "\n",
       "                    var loc = String(window.location);\n",
       "                    var end = loc.search(azure_host_suffix);\n",
       "                    start = loc.search('//');\n",
       "                    if (start > 0 && end > 0) {\n",
       "                        var parts = loc.substring(start+2, end).split('-');\n",
       "                        if (parts.length == 2) {\n",
       "                            var library = parts[0];\n",
       "                            var user = parts[1];\n",
       "                            base_url = azure_host + '/api/user/' +user+ '/library/' +library+ '/html/';\n",
       "                        }\n",
       "                    }\n",
       "\n",
       "                    // check if local jupyter lab\n",
       "                    if (base_url.length == 0) {\n",
       "                        var configDataScipt  = document.getElementById('jupyter-config-data');\n",
       "                        if (configDataScipt != null) {\n",
       "                            var jupyterConfigData = JSON.parse(configDataScipt.textContent);\n",
       "                            if (jupyterConfigData['appName'] == 'JupyterLab' && jupyterConfigData['serverRoot'] != null &&  jupyterConfigData['treeUrl'] != null) {\n",
       "                                var basePath = '/Users/nw/Desktop/thesis_nils' + '/';\n",
       "                                if (basePath.startsWith(jupyterConfigData['serverRoot'])) {\n",
       "                                    base_url = '/files/' + basePath.substring(jupyterConfigData['serverRoot'].length+1);\n",
       "                                }\n",
       "                            }\n",
       "                        }\n",
       "                    }\n",
       "\n",
       "                    // assume local jupyter notebook\n",
       "                    if (base_url.length == 0) {\n",
       "\n",
       "                        var parts = loc.split('/');\n",
       "                        parts.pop();\n",
       "                        base_url = parts.join('/') + '/';\n",
       "                    }\n",
       "                    url = base_url + file_path;\n",
       "                }\n",
       "\n",
       "                window.focus();\n",
       "                var w = screen.width / 2;\n",
       "                var h = screen.height / 2;\n",
       "                params = 'width='+w+',height='+h;\n",
       "                // kql_Magic + window_name should be a global variable \n",
       "                window_obj = window.open(url, window_name, window_params + params);\n",
       "                if (url == '') {\n",
       "                    var el = window_obj.document.createElement('p');\n",
       "                    window_obj.document.body.overflow = 'auto';\n",
       "                    el.style.top = 0;\n",
       "                    el.style.left = 0;\n",
       "                    el.innerHTML = file_path;\n",
       "                    window_obj.document.body.appendChild(el);\n",
       "                }\n",
       "                kql_Magic__88ddc2a5_36fd_403a_ac48_8cf61c0aee88_at_loganalytics_schema = window_obj;\n",
       "            }\n",
       "            </script>\n",
       "\n",
       "            </body></html>"
      ],
      "text/plain": [
       "<IPython.core.display.HTML object>"
      ]
     },
     "metadata": {},
     "output_type": "display_data"
    },
    {
     "data": {
      "application/javascript": [
       "try {IPython.notebook.kernel.reconnect();} catch(err) {;}"
      ],
      "text/plain": [
       "<IPython.core.display.Javascript object>"
      ]
     },
     "metadata": {},
     "output_type": "display_data"
    }
   ],
   "source": [
    "%kql loganalytics://tenant=$conf_tenant_id;clientid=$conf_aad_appid;clientsecret=$conf_aad_appkey;workspace=$conf_workspace_id"
   ]
  },
  {
   "cell_type": "markdown",
   "metadata": {},
   "source": [
    "<h2 align='center'>=========================================================</h2>"
   ]
  },
  {
   "cell_type": "markdown",
   "metadata": {},
   "source": [
    "## Querying the data\n",
    "There is an good training material at: https://github.com/jjsantanna/azure_sentinel_learn_kql_lab/blob/master/azure_sentinel_learn_kql_lab.ipynb"
   ]
  },
  {
   "cell_type": "code",
   "execution_count": 49,
   "metadata": {},
   "outputs": [
    {
     "data": {
      "text/html": [
       "<html>\n",
       "        <head>\n",
       "            \n",
       "            \n",
       "        </head>\n",
       "        <body>\n",
       "            <div><p style='padding: 10px; color: #3a87ad; background-color: #d9edf7; border-color: #bce9f1'>Done&nbsp;(00:00.501):&nbsp;0&nbsp;records<br>Returning&nbsp;data&nbsp;converted&nbsp;to&nbsp;pandas&nbsp;dataframe</p></div>\n",
       "        </body>\n",
       "        </html>"
      ],
      "text/plain": [
       "<IPython.core.display.HTML object>"
      ]
     },
     "metadata": {},
     "output_type": "display_data"
    },
    {
     "data": {
      "text/html": [
       "<div>\n",
       "<style scoped>\n",
       "    .dataframe tbody tr th:only-of-type {\n",
       "        vertical-align: middle;\n",
       "    }\n",
       "\n",
       "    .dataframe tbody tr th {\n",
       "        vertical-align: top;\n",
       "    }\n",
       "\n",
       "    .dataframe thead th {\n",
       "        text-align: right;\n",
       "    }\n",
       "</style>\n",
       "<table border=\"1\" class=\"dataframe\">\n",
       "  <thead>\n",
       "    <tr style=\"text-align: right;\">\n",
       "      <th></th>\n",
       "      <th>TenantId</th>\n",
       "      <th>SourceSystem</th>\n",
       "      <th>TimeGenerated</th>\n",
       "      <th>ResourceId</th>\n",
       "      <th>OperationName</th>\n",
       "      <th>OperationVersion</th>\n",
       "      <th>Category</th>\n",
       "      <th>ResultType</th>\n",
       "      <th>ResultSignature</th>\n",
       "      <th>ResultDescription</th>\n",
       "      <th>...</th>\n",
       "      <th>ServicePrincipalName</th>\n",
       "      <th>Status</th>\n",
       "      <th>TokenIssuerName</th>\n",
       "      <th>TokenIssuerType</th>\n",
       "      <th>UserAgent</th>\n",
       "      <th>UserDisplayName</th>\n",
       "      <th>UserId</th>\n",
       "      <th>UserPrincipalName</th>\n",
       "      <th>AADTenantId</th>\n",
       "      <th>Type</th>\n",
       "    </tr>\n",
       "  </thead>\n",
       "  <tbody>\n",
       "  </tbody>\n",
       "</table>\n",
       "<p>0 rows × 59 columns</p>\n",
       "</div>"
      ],
      "text/plain": [
       "Empty DataFrame\n",
       "Columns: [TenantId, SourceSystem, TimeGenerated, ResourceId, OperationName, OperationVersion, Category, ResultType, ResultSignature, ResultDescription, DurationMs, CorrelationId, Resource, ResourceGroup, ResourceProvider, Identity, Level, Location, AlternateSignInName, AppDisplayName, AppId, AuthenticationDetails, AuthenticationMethodsUsed, AuthenticationProcessingDetails, AuthenticationRequirement, AuthenticationRequirementPolicies, ClientAppUsed, ConditionalAccessPolicies, ConditionalAccessStatus, CreatedDateTime, DeviceDetail, IsInteractive, Id, IPAddress, IsRisky, LocationDetails, MfaDetail, NetworkLocationDetails, OriginalRequestId, ProcessingTimeInMilliseconds, RiskDetail, RiskEventTypes, RiskEventTypes_V2, RiskLevelAggregated, RiskLevelDuringSignIn, RiskState, ResourceDisplayName, ResourceIdentity, ServicePrincipalId, ServicePrincipalName, Status, TokenIssuerName, TokenIssuerType, UserAgent, UserDisplayName, UserId, UserPrincipalName, AADTenantId, Type]\n",
       "Index: []\n",
       "\n",
       "[0 rows x 59 columns]"
      ]
     },
     "execution_count": 49,
     "metadata": {},
     "output_type": "execute_result"
    }
   ],
   "source": [
    "%%kql SigninLogs\n",
    "|limit 10"
   ]
  },
  {
   "cell_type": "code",
   "execution_count": null,
   "metadata": {},
   "outputs": [],
   "source": []
  }
 ],
 "metadata": {
  "kernelspec": {
   "display_name": "Python 3",
   "language": "python",
   "name": "python3"
  },
  "language_info": {
   "codemirror_mode": {
    "name": "ipython",
    "version": 3
   },
   "file_extension": ".py",
   "mimetype": "text/x-python",
   "name": "python",
   "nbconvert_exporter": "python",
   "pygments_lexer": "ipython3",
   "version": "3.7.6"
  }
 },
 "nbformat": 4,
 "nbformat_minor": 2
}
